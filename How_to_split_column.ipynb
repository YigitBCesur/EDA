{
  "cells": [
    {
      "cell_type": "markdown",
      "metadata": {
        "id": "view-in-github",
        "colab_type": "text"
      },
      "source": [
        "<a href=\"https://colab.research.google.com/github/YigitBCesur/EDA/blob/main/How_to_split_column.ipynb\" target=\"_parent\"><img src=\"https://colab.research.google.com/assets/colab-badge.svg\" alt=\"Open In Colab\"/></a>"
      ]
    },
    {
      "cell_type": "markdown",
      "metadata": {
        "id": "Y00diiVxTsWA"
      },
      "source": [
        "# How to split strings in a pandas series"
      ]
    },
    {
      "cell_type": "code",
      "execution_count": null,
      "metadata": {
        "id": "I2K8TERTTsWD"
      },
      "outputs": [],
      "source": [
        "import pandas as pd"
      ]
    },
    {
      "cell_type": "markdown",
      "metadata": {
        "id": "pOoE6NzeTsWF"
      },
      "source": [
        "Read in fake data that I made up to practice with"
      ]
    },
    {
      "cell_type": "code",
      "execution_count": null,
      "metadata": {
        "id": "5hRmw6olTsWF"
      },
      "outputs": [],
      "source": [
        "df = pd.read_csv('fav_foods.csv')"
      ]
    },
    {
      "cell_type": "markdown",
      "metadata": {
        "id": "0bGzdhlNTsWG"
      },
      "source": [
        "A simple dataframe with id, email, and favorite foods. <br/>\n",
        "Conveniently the email is made up of first_name.last_name@email.com <br/>\n",
        "The dataframe also includes a column with a list of favorite foods seperated by commas"
      ]
    },
    {
      "cell_type": "code",
      "execution_count": null,
      "metadata": {
        "id": "UQFJucyWTsWH",
        "outputId": "8467ffd0-d351-4966-f169-1c76a883f2b5"
      },
      "outputs": [
        {
          "data": {
            "text/html": [
              "<div>\n",
              "<style scoped>\n",
              "    .dataframe tbody tr th:only-of-type {\n",
              "        vertical-align: middle;\n",
              "    }\n",
              "\n",
              "    .dataframe tbody tr th {\n",
              "        vertical-align: top;\n",
              "    }\n",
              "\n",
              "    .dataframe thead th {\n",
              "        text-align: right;\n",
              "    }\n",
              "</style>\n",
              "<table border=\"1\" class=\"dataframe\">\n",
              "  <thead>\n",
              "    <tr style=\"text-align: right;\">\n",
              "      <th></th>\n",
              "      <th>id</th>\n",
              "      <th>email</th>\n",
              "      <th>favorite_foods</th>\n",
              "    </tr>\n",
              "  </thead>\n",
              "  <tbody>\n",
              "    <tr>\n",
              "      <th>0</th>\n",
              "      <td>1</td>\n",
              "      <td>liberty.hayes@email.com</td>\n",
              "      <td>apple pie, hot dog, macaroni and cheese</td>\n",
              "    </tr>\n",
              "    <tr>\n",
              "      <th>1</th>\n",
              "      <td>2</td>\n",
              "      <td>mallory.spears@email.com</td>\n",
              "      <td>sushi, fried chicken, pizza</td>\n",
              "    </tr>\n",
              "    <tr>\n",
              "      <th>2</th>\n",
              "      <td>3</td>\n",
              "      <td>easton.lara@email.com</td>\n",
              "      <td>enchiladas, apple pie, hamburger</td>\n",
              "    </tr>\n",
              "    <tr>\n",
              "      <th>3</th>\n",
              "      <td>4</td>\n",
              "      <td>jaslyn.mathews@email.com</td>\n",
              "      <td>steak, hamburger, hot dog</td>\n",
              "    </tr>\n",
              "    <tr>\n",
              "      <th>4</th>\n",
              "      <td>5</td>\n",
              "      <td>juliet.erickson@email.com</td>\n",
              "      <td>poutine, sandwich</td>\n",
              "    </tr>\n",
              "    <tr>\n",
              "      <th>5</th>\n",
              "      <td>6</td>\n",
              "      <td>laylah.sullivan@email.com</td>\n",
              "      <td>french fries, ramen, fish and chips</td>\n",
              "    </tr>\n",
              "    <tr>\n",
              "      <th>6</th>\n",
              "      <td>7</td>\n",
              "      <td>kenzie.underwood@email.com</td>\n",
              "      <td>sushi, curly fries, chilps</td>\n",
              "    </tr>\n",
              "    <tr>\n",
              "      <th>7</th>\n",
              "      <td>8</td>\n",
              "      <td>alexandra.raig@email.com</td>\n",
              "      <td>NaN</td>\n",
              "    </tr>\n",
              "    <tr>\n",
              "      <th>8</th>\n",
              "      <td>9</td>\n",
              "      <td>solomon.rollins@email.com</td>\n",
              "      <td>hot dog, poutine</td>\n",
              "    </tr>\n",
              "    <tr>\n",
              "      <th>9</th>\n",
              "      <td>10</td>\n",
              "      <td>alisha.mcgrath@email.com</td>\n",
              "      <td>ramen, spaghetti</td>\n",
              "    </tr>\n",
              "    <tr>\n",
              "      <th>10</th>\n",
              "      <td>11</td>\n",
              "      <td>jakayla.suarez@email.com</td>\n",
              "      <td>lasagna, sushi, hamburger</td>\n",
              "    </tr>\n",
              "    <tr>\n",
              "      <th>11</th>\n",
              "      <td>12</td>\n",
              "      <td>alvaro.mccann@email.com</td>\n",
              "      <td>pizza, enchiladas, apple pie</td>\n",
              "    </tr>\n",
              "    <tr>\n",
              "      <th>12</th>\n",
              "      <td>13</td>\n",
              "      <td>derrick.jackson@email.com</td>\n",
              "      <td>hamburger, hot dog, macaroni and cheese</td>\n",
              "    </tr>\n",
              "    <tr>\n",
              "      <th>13</th>\n",
              "      <td>14</td>\n",
              "      <td>gina.ball@email.com</td>\n",
              "      <td>rice, poutine, hot dog</td>\n",
              "    </tr>\n",
              "    <tr>\n",
              "      <th>14</th>\n",
              "      <td>15</td>\n",
              "      <td>myles.hendrix@email.com</td>\n",
              "      <td>pizza, ramen, hamburger</td>\n",
              "    </tr>\n",
              "  </tbody>\n",
              "</table>\n",
              "</div>"
            ],
            "text/plain": [
              "    id                       email                           favorite_foods\n",
              "0    1     liberty.hayes@email.com  apple pie, hot dog, macaroni and cheese\n",
              "1    2    mallory.spears@email.com              sushi, fried chicken, pizza\n",
              "2    3       easton.lara@email.com         enchiladas, apple pie, hamburger\n",
              "3    4    jaslyn.mathews@email.com                steak, hamburger, hot dog\n",
              "4    5   juliet.erickson@email.com                        poutine, sandwich\n",
              "5    6   laylah.sullivan@email.com      french fries, ramen, fish and chips\n",
              "6    7  kenzie.underwood@email.com               sushi, curly fries, chilps\n",
              "7    8    alexandra.raig@email.com                                      NaN\n",
              "8    9   solomon.rollins@email.com                         hot dog, poutine\n",
              "9   10    alisha.mcgrath@email.com                         ramen, spaghetti\n",
              "10  11    jakayla.suarez@email.com                lasagna, sushi, hamburger\n",
              "11  12     alvaro.mccann@email.com             pizza, enchiladas, apple pie\n",
              "12  13   derrick.jackson@email.com  hamburger, hot dog, macaroni and cheese\n",
              "13  14         gina.ball@email.com                   rice, poutine, hot dog\n",
              "14  15     myles.hendrix@email.com                  pizza, ramen, hamburger"
            ]
          },
          "execution_count": 10,
          "metadata": {},
          "output_type": "execute_result"
        }
      ],
      "source": [
        "df.head(15)"
      ]
    },
    {
      "cell_type": "markdown",
      "metadata": {
        "id": "QSy-pPIbTsWI"
      },
      "source": [
        "# split\n",
        "We can seperate the first name and last name by using the str.split method <br/>\n",
        "This returns a list with the first name, the last name with the @email attached to it, and com \\[first_name, last_name@email, com\\]<br/>\n",
        "Notice that the character that we split on (i.e., '.') is not included in the list"
      ]
    },
    {
      "cell_type": "code",
      "execution_count": null,
      "metadata": {
        "id": "h5q6cjqtTsWJ",
        "outputId": "3f0573c5-cd0d-4b27-c23a-602e87d0cd8d"
      },
      "outputs": [
        {
          "data": {
            "text/plain": [
              "0        [liberty, hayes@email, com]\n",
              "1       [mallory, spears@email, com]\n",
              "2          [easton, lara@email, com]\n",
              "3       [jaslyn, mathews@email, com]\n",
              "4      [juliet, erickson@email, com]\n",
              "5      [laylah, sullivan@email, com]\n",
              "6     [kenzie, underwood@email, com]\n",
              "7       [alexandra, raig@email, com]\n",
              "8      [solomon, rollins@email, com]\n",
              "9       [alisha, mcgrath@email, com]\n",
              "10      [jakayla, suarez@email, com]\n",
              "11       [alvaro, mccann@email, com]\n",
              "12     [derrick, jackson@email, com]\n",
              "13           [gina, ball@email, com]\n",
              "14       [myles, hendrix@email, com]\n",
              "Name: email, dtype: object"
            ]
          },
          "execution_count": 11,
          "metadata": {},
          "output_type": "execute_result"
        }
      ],
      "source": [
        "df['email'].str.split('.')"
      ]
    },
    {
      "cell_type": "markdown",
      "metadata": {
        "id": "LrYkK7-lTsWJ"
      },
      "source": [
        "# n\n",
        "To make our lives easier we only want to split on the first '.' <br/>\n",
        "We can specify how many splits we want by including the n= paramater <br/>\n",
        "n specifies the maximum number of splits that will occur <br/>\n",
        "Now we just have two elements in our list, first name and last name (with some junk attached) \\[first_name, last_name@...\\]"
      ]
    },
    {
      "cell_type": "code",
      "execution_count": null,
      "metadata": {
        "id": "JYuRb1pkTsWK",
        "outputId": "7fcfe864-6ab9-46f7-b334-1f22d8c0f8b0"
      },
      "outputs": [
        {
          "data": {
            "text/plain": [
              "0        [liberty, hayes@email.com]\n",
              "1       [mallory, spears@email.com]\n",
              "2          [easton, lara@email.com]\n",
              "3       [jaslyn, mathews@email.com]\n",
              "4      [juliet, erickson@email.com]\n",
              "5      [laylah, sullivan@email.com]\n",
              "6     [kenzie, underwood@email.com]\n",
              "7       [alexandra, raig@email.com]\n",
              "8      [solomon, rollins@email.com]\n",
              "9       [alisha, mcgrath@email.com]\n",
              "10      [jakayla, suarez@email.com]\n",
              "11       [alvaro, mccann@email.com]\n",
              "12     [derrick, jackson@email.com]\n",
              "13           [gina, ball@email.com]\n",
              "14       [myles, hendrix@email.com]\n",
              "Name: email, dtype: object"
            ]
          },
          "execution_count": 13,
          "metadata": {},
          "output_type": "execute_result"
        }
      ],
      "source": [
        "df['email'].str.split('.',n=1)"
      ]
    },
    {
      "cell_type": "markdown",
      "metadata": {
        "id": "01mShoDZTsWL"
      },
      "source": [
        "# expand\n",
        "This above code returns a Series of lists. I generally find it more helpful if each element is in it's own Series rather than in a list. We can accomplish this by using the expand=True parameter. <br/>\n",
        "This will create a dataframe with each element in it's own column. We will assing the returned dataframe into split_email"
      ]
    },
    {
      "cell_type": "code",
      "execution_count": null,
      "metadata": {
        "id": "9-VhFRFjTsWL",
        "outputId": "3a4ce6fa-d475-4124-a168-b47978a802e5"
      },
      "outputs": [
        {
          "data": {
            "text/html": [
              "<div>\n",
              "<style scoped>\n",
              "    .dataframe tbody tr th:only-of-type {\n",
              "        vertical-align: middle;\n",
              "    }\n",
              "\n",
              "    .dataframe tbody tr th {\n",
              "        vertical-align: top;\n",
              "    }\n",
              "\n",
              "    .dataframe thead th {\n",
              "        text-align: right;\n",
              "    }\n",
              "</style>\n",
              "<table border=\"1\" class=\"dataframe\">\n",
              "  <thead>\n",
              "    <tr style=\"text-align: right;\">\n",
              "      <th></th>\n",
              "      <th>0</th>\n",
              "      <th>1</th>\n",
              "    </tr>\n",
              "  </thead>\n",
              "  <tbody>\n",
              "    <tr>\n",
              "      <th>0</th>\n",
              "      <td>liberty</td>\n",
              "      <td>hayes@email.com</td>\n",
              "    </tr>\n",
              "    <tr>\n",
              "      <th>1</th>\n",
              "      <td>mallory</td>\n",
              "      <td>spears@email.com</td>\n",
              "    </tr>\n",
              "    <tr>\n",
              "      <th>2</th>\n",
              "      <td>easton</td>\n",
              "      <td>lara@email.com</td>\n",
              "    </tr>\n",
              "    <tr>\n",
              "      <th>3</th>\n",
              "      <td>jaslyn</td>\n",
              "      <td>mathews@email.com</td>\n",
              "    </tr>\n",
              "    <tr>\n",
              "      <th>4</th>\n",
              "      <td>juliet</td>\n",
              "      <td>erickson@email.com</td>\n",
              "    </tr>\n",
              "    <tr>\n",
              "      <th>5</th>\n",
              "      <td>laylah</td>\n",
              "      <td>sullivan@email.com</td>\n",
              "    </tr>\n",
              "    <tr>\n",
              "      <th>6</th>\n",
              "      <td>kenzie</td>\n",
              "      <td>underwood@email.com</td>\n",
              "    </tr>\n",
              "    <tr>\n",
              "      <th>7</th>\n",
              "      <td>alexandra</td>\n",
              "      <td>raig@email.com</td>\n",
              "    </tr>\n",
              "    <tr>\n",
              "      <th>8</th>\n",
              "      <td>solomon</td>\n",
              "      <td>rollins@email.com</td>\n",
              "    </tr>\n",
              "    <tr>\n",
              "      <th>9</th>\n",
              "      <td>alisha</td>\n",
              "      <td>mcgrath@email.com</td>\n",
              "    </tr>\n",
              "    <tr>\n",
              "      <th>10</th>\n",
              "      <td>jakayla</td>\n",
              "      <td>suarez@email.com</td>\n",
              "    </tr>\n",
              "    <tr>\n",
              "      <th>11</th>\n",
              "      <td>alvaro</td>\n",
              "      <td>mccann@email.com</td>\n",
              "    </tr>\n",
              "    <tr>\n",
              "      <th>12</th>\n",
              "      <td>derrick</td>\n",
              "      <td>jackson@email.com</td>\n",
              "    </tr>\n",
              "    <tr>\n",
              "      <th>13</th>\n",
              "      <td>gina</td>\n",
              "      <td>ball@email.com</td>\n",
              "    </tr>\n",
              "    <tr>\n",
              "      <th>14</th>\n",
              "      <td>myles</td>\n",
              "      <td>hendrix@email.com</td>\n",
              "    </tr>\n",
              "  </tbody>\n",
              "</table>\n",
              "</div>"
            ],
            "text/plain": [
              "            0                    1\n",
              "0     liberty      hayes@email.com\n",
              "1     mallory     spears@email.com\n",
              "2      easton       lara@email.com\n",
              "3      jaslyn    mathews@email.com\n",
              "4      juliet   erickson@email.com\n",
              "5      laylah   sullivan@email.com\n",
              "6      kenzie  underwood@email.com\n",
              "7   alexandra       raig@email.com\n",
              "8     solomon    rollins@email.com\n",
              "9      alisha    mcgrath@email.com\n",
              "10    jakayla     suarez@email.com\n",
              "11     alvaro     mccann@email.com\n",
              "12    derrick    jackson@email.com\n",
              "13       gina       ball@email.com\n",
              "14      myles    hendrix@email.com"
            ]
          },
          "execution_count": 60,
          "metadata": {},
          "output_type": "execute_result"
        }
      ],
      "source": [
        "split_email = df['email'].str.split('.',n=1, expand=True)\n",
        "split_email"
      ]
    },
    {
      "cell_type": "markdown",
      "metadata": {
        "id": "pIf4KJBdTsWM"
      },
      "source": [
        "# rename\n",
        "Nice! This is helpful, but the column names are not helpful. We can rename them using the .rename method. "
      ]
    },
    {
      "cell_type": "code",
      "execution_count": null,
      "metadata": {
        "id": "rmV0eO0KTsWM",
        "outputId": "10fcadeb-40c9-4817-9a03-b6e665d7d61e"
      },
      "outputs": [
        {
          "data": {
            "text/html": [
              "<div>\n",
              "<style scoped>\n",
              "    .dataframe tbody tr th:only-of-type {\n",
              "        vertical-align: middle;\n",
              "    }\n",
              "\n",
              "    .dataframe tbody tr th {\n",
              "        vertical-align: top;\n",
              "    }\n",
              "\n",
              "    .dataframe thead th {\n",
              "        text-align: right;\n",
              "    }\n",
              "</style>\n",
              "<table border=\"1\" class=\"dataframe\">\n",
              "  <thead>\n",
              "    <tr style=\"text-align: right;\">\n",
              "      <th></th>\n",
              "      <th>first_name</th>\n",
              "      <th>last_.com</th>\n",
              "    </tr>\n",
              "  </thead>\n",
              "  <tbody>\n",
              "    <tr>\n",
              "      <th>0</th>\n",
              "      <td>liberty</td>\n",
              "      <td>hayes@email.com</td>\n",
              "    </tr>\n",
              "    <tr>\n",
              "      <th>1</th>\n",
              "      <td>mallory</td>\n",
              "      <td>spears@email.com</td>\n",
              "    </tr>\n",
              "    <tr>\n",
              "      <th>2</th>\n",
              "      <td>easton</td>\n",
              "      <td>lara@email.com</td>\n",
              "    </tr>\n",
              "    <tr>\n",
              "      <th>3</th>\n",
              "      <td>jaslyn</td>\n",
              "      <td>mathews@email.com</td>\n",
              "    </tr>\n",
              "    <tr>\n",
              "      <th>4</th>\n",
              "      <td>juliet</td>\n",
              "      <td>erickson@email.com</td>\n",
              "    </tr>\n",
              "    <tr>\n",
              "      <th>5</th>\n",
              "      <td>laylah</td>\n",
              "      <td>sullivan@email.com</td>\n",
              "    </tr>\n",
              "    <tr>\n",
              "      <th>6</th>\n",
              "      <td>kenzie</td>\n",
              "      <td>underwood@email.com</td>\n",
              "    </tr>\n",
              "    <tr>\n",
              "      <th>7</th>\n",
              "      <td>alexandra</td>\n",
              "      <td>raig@email.com</td>\n",
              "    </tr>\n",
              "    <tr>\n",
              "      <th>8</th>\n",
              "      <td>solomon</td>\n",
              "      <td>rollins@email.com</td>\n",
              "    </tr>\n",
              "    <tr>\n",
              "      <th>9</th>\n",
              "      <td>alisha</td>\n",
              "      <td>mcgrath@email.com</td>\n",
              "    </tr>\n",
              "    <tr>\n",
              "      <th>10</th>\n",
              "      <td>jakayla</td>\n",
              "      <td>suarez@email.com</td>\n",
              "    </tr>\n",
              "    <tr>\n",
              "      <th>11</th>\n",
              "      <td>alvaro</td>\n",
              "      <td>mccann@email.com</td>\n",
              "    </tr>\n",
              "    <tr>\n",
              "      <th>12</th>\n",
              "      <td>derrick</td>\n",
              "      <td>jackson@email.com</td>\n",
              "    </tr>\n",
              "    <tr>\n",
              "      <th>13</th>\n",
              "      <td>gina</td>\n",
              "      <td>ball@email.com</td>\n",
              "    </tr>\n",
              "    <tr>\n",
              "      <th>14</th>\n",
              "      <td>myles</td>\n",
              "      <td>hendrix@email.com</td>\n",
              "    </tr>\n",
              "  </tbody>\n",
              "</table>\n",
              "</div>"
            ],
            "text/plain": [
              "   first_name            last_.com\n",
              "0     liberty      hayes@email.com\n",
              "1     mallory     spears@email.com\n",
              "2      easton       lara@email.com\n",
              "3      jaslyn    mathews@email.com\n",
              "4      juliet   erickson@email.com\n",
              "5      laylah   sullivan@email.com\n",
              "6      kenzie  underwood@email.com\n",
              "7   alexandra       raig@email.com\n",
              "8     solomon    rollins@email.com\n",
              "9      alisha    mcgrath@email.com\n",
              "10    jakayla     suarez@email.com\n",
              "11     alvaro     mccann@email.com\n",
              "12    derrick    jackson@email.com\n",
              "13       gina       ball@email.com\n",
              "14      myles    hendrix@email.com"
            ]
          },
          "execution_count": 83,
          "metadata": {},
          "output_type": "execute_result"
        }
      ],
      "source": [
        "split_email.rename(columns={0:\"first_name\",1:\"last_.com\"})\n",
        "split_email"
      ]
    },
    {
      "cell_type": "markdown",
      "metadata": {
        "id": "xD0w3setTsWN"
      },
      "source": [
        "We can do that all in one step if you don't like :)"
      ]
    },
    {
      "cell_type": "code",
      "execution_count": null,
      "metadata": {
        "id": "kEbGOI0NTsWN",
        "outputId": "4d7ca7fc-b220-4795-f75f-c2a910df82ae"
      },
      "outputs": [
        {
          "data": {
            "text/html": [
              "<div>\n",
              "<style scoped>\n",
              "    .dataframe tbody tr th:only-of-type {\n",
              "        vertical-align: middle;\n",
              "    }\n",
              "\n",
              "    .dataframe tbody tr th {\n",
              "        vertical-align: top;\n",
              "    }\n",
              "\n",
              "    .dataframe thead th {\n",
              "        text-align: right;\n",
              "    }\n",
              "</style>\n",
              "<table border=\"1\" class=\"dataframe\">\n",
              "  <thead>\n",
              "    <tr style=\"text-align: right;\">\n",
              "      <th></th>\n",
              "      <th>first_name</th>\n",
              "      <th>last_.com</th>\n",
              "    </tr>\n",
              "  </thead>\n",
              "  <tbody>\n",
              "    <tr>\n",
              "      <th>0</th>\n",
              "      <td>liberty</td>\n",
              "      <td>hayes@email.com</td>\n",
              "    </tr>\n",
              "    <tr>\n",
              "      <th>1</th>\n",
              "      <td>mallory</td>\n",
              "      <td>spears@email.com</td>\n",
              "    </tr>\n",
              "    <tr>\n",
              "      <th>2</th>\n",
              "      <td>easton</td>\n",
              "      <td>lara@email.com</td>\n",
              "    </tr>\n",
              "    <tr>\n",
              "      <th>3</th>\n",
              "      <td>jaslyn</td>\n",
              "      <td>mathews@email.com</td>\n",
              "    </tr>\n",
              "    <tr>\n",
              "      <th>4</th>\n",
              "      <td>juliet</td>\n",
              "      <td>erickson@email.com</td>\n",
              "    </tr>\n",
              "    <tr>\n",
              "      <th>5</th>\n",
              "      <td>laylah</td>\n",
              "      <td>sullivan@email.com</td>\n",
              "    </tr>\n",
              "    <tr>\n",
              "      <th>6</th>\n",
              "      <td>kenzie</td>\n",
              "      <td>underwood@email.com</td>\n",
              "    </tr>\n",
              "    <tr>\n",
              "      <th>7</th>\n",
              "      <td>alexandra</td>\n",
              "      <td>raig@email.com</td>\n",
              "    </tr>\n",
              "    <tr>\n",
              "      <th>8</th>\n",
              "      <td>solomon</td>\n",
              "      <td>rollins@email.com</td>\n",
              "    </tr>\n",
              "    <tr>\n",
              "      <th>9</th>\n",
              "      <td>alisha</td>\n",
              "      <td>mcgrath@email.com</td>\n",
              "    </tr>\n",
              "    <tr>\n",
              "      <th>10</th>\n",
              "      <td>jakayla</td>\n",
              "      <td>suarez@email.com</td>\n",
              "    </tr>\n",
              "    <tr>\n",
              "      <th>11</th>\n",
              "      <td>alvaro</td>\n",
              "      <td>mccann@email.com</td>\n",
              "    </tr>\n",
              "    <tr>\n",
              "      <th>12</th>\n",
              "      <td>derrick</td>\n",
              "      <td>jackson@email.com</td>\n",
              "    </tr>\n",
              "    <tr>\n",
              "      <th>13</th>\n",
              "      <td>gina</td>\n",
              "      <td>ball@email.com</td>\n",
              "    </tr>\n",
              "    <tr>\n",
              "      <th>14</th>\n",
              "      <td>myles</td>\n",
              "      <td>hendrix@email.com</td>\n",
              "    </tr>\n",
              "  </tbody>\n",
              "</table>\n",
              "</div>"
            ],
            "text/plain": [
              "   first_name            last_.com\n",
              "0     liberty      hayes@email.com\n",
              "1     mallory     spears@email.com\n",
              "2      easton       lara@email.com\n",
              "3      jaslyn    mathews@email.com\n",
              "4      juliet   erickson@email.com\n",
              "5      laylah   sullivan@email.com\n",
              "6      kenzie  underwood@email.com\n",
              "7   alexandra       raig@email.com\n",
              "8     solomon    rollins@email.com\n",
              "9      alisha    mcgrath@email.com\n",
              "10    jakayla     suarez@email.com\n",
              "11     alvaro     mccann@email.com\n",
              "12    derrick    jackson@email.com\n",
              "13       gina       ball@email.com\n",
              "14      myles    hendrix@email.com"
            ]
          },
          "execution_count": 64,
          "metadata": {},
          "output_type": "execute_result"
        }
      ],
      "source": [
        "split_email2 = df['email'].str.split('.', n=1, expand=True).rename(columns={0:\"first_name\", 1:\"last_.com\"})\n",
        "split_email2"
      ]
    },
    {
      "cell_type": "markdown",
      "metadata": {
        "id": "zqbD25GmTsWN"
      },
      "source": [
        "# split with new columns in original dataframe\n",
        "Most often when I use the .split method I want to include it in the original dataframe. We can accomplish this with the code below. <br/>\n",
        "The column names on the left side of the = are the new column names (if you had two splits you should provide would have 3 column names)"
      ]
    },
    {
      "cell_type": "code",
      "execution_count": null,
      "metadata": {
        "id": "c6xqHIxWTsWO",
        "outputId": "233f024a-2507-4cf7-95fb-4433494dc177"
      },
      "outputs": [
        {
          "data": {
            "text/html": [
              "<div>\n",
              "<style scoped>\n",
              "    .dataframe tbody tr th:only-of-type {\n",
              "        vertical-align: middle;\n",
              "    }\n",
              "\n",
              "    .dataframe tbody tr th {\n",
              "        vertical-align: top;\n",
              "    }\n",
              "\n",
              "    .dataframe thead th {\n",
              "        text-align: right;\n",
              "    }\n",
              "</style>\n",
              "<table border=\"1\" class=\"dataframe\">\n",
              "  <thead>\n",
              "    <tr style=\"text-align: right;\">\n",
              "      <th></th>\n",
              "      <th>id</th>\n",
              "      <th>email</th>\n",
              "      <th>favorite_foods</th>\n",
              "      <th>first_name</th>\n",
              "      <th>Last_name</th>\n",
              "      <th>last_name</th>\n",
              "    </tr>\n",
              "  </thead>\n",
              "  <tbody>\n",
              "    <tr>\n",
              "      <th>0</th>\n",
              "      <td>1</td>\n",
              "      <td>liberty.hayes@email.com</td>\n",
              "      <td>apple pie, hot dog, macaroni and cheese</td>\n",
              "      <td>liberty</td>\n",
              "      <td>hayes@email.com</td>\n",
              "      <td>hayes@email.com</td>\n",
              "    </tr>\n",
              "    <tr>\n",
              "      <th>1</th>\n",
              "      <td>2</td>\n",
              "      <td>mallory.spears@email.com</td>\n",
              "      <td>sushi, fried chicken, pizza</td>\n",
              "      <td>mallory</td>\n",
              "      <td>spears@email.com</td>\n",
              "      <td>spears@email.com</td>\n",
              "    </tr>\n",
              "    <tr>\n",
              "      <th>2</th>\n",
              "      <td>3</td>\n",
              "      <td>easton.lara@email.com</td>\n",
              "      <td>enchiladas, apple pie, hamburger</td>\n",
              "      <td>easton</td>\n",
              "      <td>lara@email.com</td>\n",
              "      <td>lara@email.com</td>\n",
              "    </tr>\n",
              "    <tr>\n",
              "      <th>3</th>\n",
              "      <td>4</td>\n",
              "      <td>jaslyn.mathews@email.com</td>\n",
              "      <td>steak, hamburger, hot dog</td>\n",
              "      <td>jaslyn</td>\n",
              "      <td>mathews@email.com</td>\n",
              "      <td>mathews@email.com</td>\n",
              "    </tr>\n",
              "    <tr>\n",
              "      <th>4</th>\n",
              "      <td>5</td>\n",
              "      <td>juliet.erickson@email.com</td>\n",
              "      <td>poutine, sandwich</td>\n",
              "      <td>juliet</td>\n",
              "      <td>erickson@email.com</td>\n",
              "      <td>erickson@email.com</td>\n",
              "    </tr>\n",
              "    <tr>\n",
              "      <th>5</th>\n",
              "      <td>6</td>\n",
              "      <td>laylah.sullivan@email.com</td>\n",
              "      <td>french fries, ramen, fish and chips</td>\n",
              "      <td>laylah</td>\n",
              "      <td>sullivan@email.com</td>\n",
              "      <td>sullivan@email.com</td>\n",
              "    </tr>\n",
              "    <tr>\n",
              "      <th>6</th>\n",
              "      <td>7</td>\n",
              "      <td>kenzie.underwood@email.com</td>\n",
              "      <td>sushi, curly fries, chilps</td>\n",
              "      <td>kenzie</td>\n",
              "      <td>underwood@email.com</td>\n",
              "      <td>underwood@email.com</td>\n",
              "    </tr>\n",
              "    <tr>\n",
              "      <th>7</th>\n",
              "      <td>8</td>\n",
              "      <td>alexandra.raig@email.com</td>\n",
              "      <td>NaN</td>\n",
              "      <td>alexandra</td>\n",
              "      <td>raig@email.com</td>\n",
              "      <td>raig@email.com</td>\n",
              "    </tr>\n",
              "    <tr>\n",
              "      <th>8</th>\n",
              "      <td>9</td>\n",
              "      <td>solomon.rollins@email.com</td>\n",
              "      <td>hot dog, poutine</td>\n",
              "      <td>solomon</td>\n",
              "      <td>rollins@email.com</td>\n",
              "      <td>rollins@email.com</td>\n",
              "    </tr>\n",
              "    <tr>\n",
              "      <th>9</th>\n",
              "      <td>10</td>\n",
              "      <td>alisha.mcgrath@email.com</td>\n",
              "      <td>ramen, spaghetti</td>\n",
              "      <td>alisha</td>\n",
              "      <td>mcgrath@email.com</td>\n",
              "      <td>mcgrath@email.com</td>\n",
              "    </tr>\n",
              "    <tr>\n",
              "      <th>10</th>\n",
              "      <td>11</td>\n",
              "      <td>jakayla.suarez@email.com</td>\n",
              "      <td>lasagna, sushi, hamburger</td>\n",
              "      <td>jakayla</td>\n",
              "      <td>suarez@email.com</td>\n",
              "      <td>suarez@email.com</td>\n",
              "    </tr>\n",
              "    <tr>\n",
              "      <th>11</th>\n",
              "      <td>12</td>\n",
              "      <td>alvaro.mccann@email.com</td>\n",
              "      <td>pizza, enchiladas, apple pie</td>\n",
              "      <td>alvaro</td>\n",
              "      <td>mccann@email.com</td>\n",
              "      <td>mccann@email.com</td>\n",
              "    </tr>\n",
              "    <tr>\n",
              "      <th>12</th>\n",
              "      <td>13</td>\n",
              "      <td>derrick.jackson@email.com</td>\n",
              "      <td>hamburger, hot dog, macaroni and cheese</td>\n",
              "      <td>derrick</td>\n",
              "      <td>jackson@email.com</td>\n",
              "      <td>jackson@email.com</td>\n",
              "    </tr>\n",
              "    <tr>\n",
              "      <th>13</th>\n",
              "      <td>14</td>\n",
              "      <td>gina.ball@email.com</td>\n",
              "      <td>rice, poutine, hot dog</td>\n",
              "      <td>gina</td>\n",
              "      <td>ball@email.com</td>\n",
              "      <td>ball@email.com</td>\n",
              "    </tr>\n",
              "    <tr>\n",
              "      <th>14</th>\n",
              "      <td>15</td>\n",
              "      <td>myles.hendrix@email.com</td>\n",
              "      <td>pizza, ramen, hamburger</td>\n",
              "      <td>myles</td>\n",
              "      <td>hendrix@email.com</td>\n",
              "      <td>hendrix@email.com</td>\n",
              "    </tr>\n",
              "  </tbody>\n",
              "</table>\n",
              "</div>"
            ],
            "text/plain": [
              "    id                       email                           favorite_foods  \\\n",
              "0    1     liberty.hayes@email.com  apple pie, hot dog, macaroni and cheese   \n",
              "1    2    mallory.spears@email.com              sushi, fried chicken, pizza   \n",
              "2    3       easton.lara@email.com         enchiladas, apple pie, hamburger   \n",
              "3    4    jaslyn.mathews@email.com                steak, hamburger, hot dog   \n",
              "4    5   juliet.erickson@email.com                        poutine, sandwich   \n",
              "5    6   laylah.sullivan@email.com      french fries, ramen, fish and chips   \n",
              "6    7  kenzie.underwood@email.com               sushi, curly fries, chilps   \n",
              "7    8    alexandra.raig@email.com                                      NaN   \n",
              "8    9   solomon.rollins@email.com                         hot dog, poutine   \n",
              "9   10    alisha.mcgrath@email.com                         ramen, spaghetti   \n",
              "10  11    jakayla.suarez@email.com                lasagna, sushi, hamburger   \n",
              "11  12     alvaro.mccann@email.com             pizza, enchiladas, apple pie   \n",
              "12  13   derrick.jackson@email.com  hamburger, hot dog, macaroni and cheese   \n",
              "13  14         gina.ball@email.com                   rice, poutine, hot dog   \n",
              "14  15     myles.hendrix@email.com                  pizza, ramen, hamburger   \n",
              "\n",
              "   first_name            Last_name            last_name  \n",
              "0     liberty      hayes@email.com      hayes@email.com  \n",
              "1     mallory     spears@email.com     spears@email.com  \n",
              "2      easton       lara@email.com       lara@email.com  \n",
              "3      jaslyn    mathews@email.com    mathews@email.com  \n",
              "4      juliet   erickson@email.com   erickson@email.com  \n",
              "5      laylah   sullivan@email.com   sullivan@email.com  \n",
              "6      kenzie  underwood@email.com  underwood@email.com  \n",
              "7   alexandra       raig@email.com       raig@email.com  \n",
              "8     solomon    rollins@email.com    rollins@email.com  \n",
              "9      alisha    mcgrath@email.com    mcgrath@email.com  \n",
              "10    jakayla     suarez@email.com     suarez@email.com  \n",
              "11     alvaro     mccann@email.com     mccann@email.com  \n",
              "12    derrick    jackson@email.com    jackson@email.com  \n",
              "13       gina       ball@email.com       ball@email.com  \n",
              "14      myles    hendrix@email.com    hendrix@email.com  "
            ]
          },
          "execution_count": 75,
          "metadata": {},
          "output_type": "execute_result"
        }
      ],
      "source": [
        "df[['first_name','last_name']] = df['email'].str.split('.', n=1, expand=True)\n",
        "df"
      ]
    },
    {
      "cell_type": "markdown",
      "metadata": {
        "id": "jKCs4kFtTsWO"
      },
      "source": [
        "# replace\n",
        "Now we just need to clean up the last_name column. We can simply remove the @email.com by using the .replace method. As arguments we include the thing we want to replace and what we want to replace it with. <br/>\n",
        "Here we want to replace the @gmail.com with an empty string (which removes the @email.com)"
      ]
    },
    {
      "cell_type": "code",
      "execution_count": null,
      "metadata": {
        "id": "qIF0yQDITsWO",
        "outputId": "b940f91c-37c9-4fae-88dc-2e87744b6f44"
      },
      "outputs": [
        {
          "data": {
            "text/html": [
              "<div>\n",
              "<style scoped>\n",
              "    .dataframe tbody tr th:only-of-type {\n",
              "        vertical-align: middle;\n",
              "    }\n",
              "\n",
              "    .dataframe tbody tr th {\n",
              "        vertical-align: top;\n",
              "    }\n",
              "\n",
              "    .dataframe thead th {\n",
              "        text-align: right;\n",
              "    }\n",
              "</style>\n",
              "<table border=\"1\" class=\"dataframe\">\n",
              "  <thead>\n",
              "    <tr style=\"text-align: right;\">\n",
              "      <th></th>\n",
              "      <th>id</th>\n",
              "      <th>email</th>\n",
              "      <th>favorite_foods</th>\n",
              "      <th>first_name</th>\n",
              "      <th>Last_name</th>\n",
              "      <th>last_name</th>\n",
              "      <th>fav1</th>\n",
              "      <th>fav2</th>\n",
              "      <th>fav3</th>\n",
              "    </tr>\n",
              "  </thead>\n",
              "  <tbody>\n",
              "    <tr>\n",
              "      <th>9</th>\n",
              "      <td>10</td>\n",
              "      <td>alisha.mcgrath@email.com</td>\n",
              "      <td>ramen, spaghetti</td>\n",
              "      <td>alisha</td>\n",
              "      <td>mcgrath@email.com</td>\n",
              "      <td>mcgrath</td>\n",
              "      <td>ramen</td>\n",
              "      <td>spaghetti</td>\n",
              "      <td>None</td>\n",
              "    </tr>\n",
              "    <tr>\n",
              "      <th>10</th>\n",
              "      <td>11</td>\n",
              "      <td>jakayla.suarez@email.com</td>\n",
              "      <td>lasagna, sushi, hamburger</td>\n",
              "      <td>jakayla</td>\n",
              "      <td>suarez@email.com</td>\n",
              "      <td>suarez</td>\n",
              "      <td>lasagna</td>\n",
              "      <td>sushi</td>\n",
              "      <td>hamburger</td>\n",
              "    </tr>\n",
              "    <tr>\n",
              "      <th>14</th>\n",
              "      <td>15</td>\n",
              "      <td>myles.hendrix@email.com</td>\n",
              "      <td>pizza, ramen, hamburger</td>\n",
              "      <td>myles</td>\n",
              "      <td>hendrix@email.com</td>\n",
              "      <td>hendrix</td>\n",
              "      <td>pizza</td>\n",
              "      <td>ramen</td>\n",
              "      <td>hamburger</td>\n",
              "    </tr>\n",
              "    <tr>\n",
              "      <th>6</th>\n",
              "      <td>7</td>\n",
              "      <td>kenzie.underwood@email.com</td>\n",
              "      <td>sushi, curly fries, chilps</td>\n",
              "      <td>kenzie</td>\n",
              "      <td>underwood@email.com</td>\n",
              "      <td>underwood</td>\n",
              "      <td>sushi</td>\n",
              "      <td>curly fries</td>\n",
              "      <td>chilps</td>\n",
              "    </tr>\n",
              "    <tr>\n",
              "      <th>1</th>\n",
              "      <td>2</td>\n",
              "      <td>mallory.spears@email.com</td>\n",
              "      <td>sushi, fried chicken, pizza</td>\n",
              "      <td>mallory</td>\n",
              "      <td>spears@email.com</td>\n",
              "      <td>spears</td>\n",
              "      <td>sushi</td>\n",
              "      <td>fried chicken</td>\n",
              "      <td>pizza</td>\n",
              "    </tr>\n",
              "  </tbody>\n",
              "</table>\n",
              "</div>"
            ],
            "text/plain": [
              "    id                       email               favorite_foods first_name  \\\n",
              "9   10    alisha.mcgrath@email.com             ramen, spaghetti     alisha   \n",
              "10  11    jakayla.suarez@email.com    lasagna, sushi, hamburger    jakayla   \n",
              "14  15     myles.hendrix@email.com      pizza, ramen, hamburger      myles   \n",
              "6    7  kenzie.underwood@email.com   sushi, curly fries, chilps     kenzie   \n",
              "1    2    mallory.spears@email.com  sushi, fried chicken, pizza    mallory   \n",
              "\n",
              "              Last_name  last_name     fav1           fav2       fav3  \n",
              "9     mcgrath@email.com    mcgrath    ramen      spaghetti       None  \n",
              "10     suarez@email.com     suarez  lasagna          sushi  hamburger  \n",
              "14    hendrix@email.com    hendrix    pizza          ramen  hamburger  \n",
              "6   underwood@email.com  underwood    sushi    curly fries     chilps  \n",
              "1      spears@email.com     spears    sushi  fried chicken      pizza  "
            ]
          },
          "execution_count": 81,
          "metadata": {},
          "output_type": "execute_result"
        }
      ],
      "source": [
        "df['last_name'] = df['last_name'].str.replace('@email.com','')\n",
        "df.sample(5)"
      ]
    },
    {
      "cell_type": "markdown",
      "metadata": {
        "id": "fuiLV50LTsWP"
      },
      "source": [
        "That's the basics of the .split method. <br/>\n",
        "Through the rest of the notebook we will go over what happens with NaN and when there are different amounts of characters we split on throughout the Series. <br/>\n",
        "We saw in the favorite_foods column that there was a NaN value and that some rows two favorite foods and others have three favorite foods. <br/>"
      ]
    },
    {
      "cell_type": "markdown",
      "metadata": {
        "id": "UnfdBcgrTsWP"
      },
      "source": [
        "# NaN and None\n",
        "NOTICE: We are spliting on '. ' (period space) not just '.' if we split on only '.' it will return the favorite food with ' ' attached to the front of the string. You probably don't want this. <br/>\n",
        "What happens with NaN? NaN just gets carried over into all the the new columns <br/>\n",
        "What happens when there are fewer splits (i.e., 1 split instead of 2)? When there is nothing to include in an extra column  None is placed in that cell. "
      ]
    },
    {
      "cell_type": "code",
      "execution_count": null,
      "metadata": {
        "id": "zmdARRLgTsWQ"
      },
      "outputs": [],
      "source": [
        "df[['fav1','fav2','fav3']] = df['favorite_foods'].str.split(', ', expand=True)\n",
        "df"
      ]
    },
    {
      "cell_type": "code",
      "source": [],
      "metadata": {
        "id": "2pjppqFRT2m2"
      },
      "execution_count": null,
      "outputs": []
    },
    {
      "cell_type": "markdown",
      "source": [
        "**Split DataFrame column into two columns using apply() method**\n",
        "\n",
        "\n",
        "In Pandas, the apply() method can also be used to split one column values into multiple columns. The DataFrame.apply method() can execute a function on all values of single or multiple columns. Then inside that function, we can split the string value to multiple values. Then we can assign all these splitted values into new columns."
      ],
      "metadata": {
        "id": "jeoxnKfxT9TH"
      }
    },
    {
      "cell_type": "code",
      "source": [
        "# dataframe.apply(func, axis, raw, result_type, args, kwds)"
      ],
      "metadata": {
        "id": "KllQj_IKUQDA"
      },
      "execution_count": 3,
      "outputs": []
    },
    {
      "cell_type": "code",
      "source": [
        "import pandas as pd\n",
        "# create a Dataframe\n",
        "df = pd.DataFrame({\n",
        "    'RollNo': [10, 20, 30],\n",
        "    'student_name': ['Reema', 'Rekha', 'Jaya'],\n",
        "    'student_address': ['Surat_Gujarat', 'Pune_Maharastra', 'Delhi_Uttar Pradesh'] })\n",
        "# show the dataframe\n",
        "print(df)\n"
      ],
      "metadata": {
        "colab": {
          "base_uri": "https://localhost:8080/"
        },
        "id": "CQspXeWsUccO",
        "outputId": "3c54ddca-6eaf-4b22-ef61-9f53c8bc9ab1"
      },
      "execution_count": 5,
      "outputs": [
        {
          "output_type": "stream",
          "name": "stdout",
          "text": [
            "   RollNo student_name      student_address\n",
            "0      10        Reema        Surat_Gujarat\n",
            "1      20        Rekha      Pune_Maharastra\n",
            "2      30         Jaya  Delhi_Uttar Pradesh\n"
          ]
        }
      ]
    },
    {
      "cell_type": "code",
      "source": [
        "# Split column student_address into two columns City and State\n",
        "\n",
        "df[['City', 'State']] = df[\"student_address\"].apply(lambda x: pd.Series(str(x).split(\"_\")))\n",
        "print(df)"
      ],
      "metadata": {
        "colab": {
          "base_uri": "https://localhost:8080/"
        },
        "id": "a1RbkJJYUmaf",
        "outputId": "b98816f3-9b31-4a54-bbca-d85eb67ba656"
      },
      "execution_count": 6,
      "outputs": [
        {
          "output_type": "stream",
          "name": "stdout",
          "text": [
            "   RollNo student_name      student_address   City          State\n",
            "0      10        Reema        Surat_Gujarat  Surat        Gujarat\n",
            "1      20        Rekha      Pune_Maharastra   Pune     Maharastra\n",
            "2      30         Jaya  Delhi_Uttar Pradesh  Delhi  Uttar Pradesh\n"
          ]
        }
      ]
    },
    {
      "cell_type": "markdown",
      "source": [
        "Example 2:\n",
        "\n",
        "\n",
        "Example of DataFrame.apply() method with comma as a delimiter, to split two different columns values into four new columns"
      ],
      "metadata": {
        "id": "hfcUPIIlVQou"
      }
    },
    {
      "cell_type": "code",
      "source": [
        "import pandas as pd\n",
        "# create a Dataframe\n",
        "df = pd.DataFrame({\n",
        "    'RollNo': [10, 20, 30],\n",
        "    'student_name': ['Reema,Thakkar', 'Rekha,Chande', 'Jaya,Sachde'],\n",
        "    'student_address': ['Surat,Gujarat', 'Pune,Maharastra', 'Delhi,Uttar Pradesh'] })\n",
        "# show the DataFrame\n",
        "print(df)\n",
        "\n",
        "print('*******************')\n",
        "\n",
        "# Split column student_name into Name and Surname\n",
        "df[['Name', 'Surname']] = df[\"student_name\"].apply(lambda x: pd.Series(str(x).split(\",\")))\n",
        "# Split column student_address into City and State\n",
        "df[['City', 'State']] = df[\"student_address\"].apply(lambda x: pd.Series(str(x).split(\",\")))\n",
        "print(df)"
      ],
      "metadata": {
        "colab": {
          "base_uri": "https://localhost:8080/"
        },
        "id": "-BDT-m52U5mx",
        "outputId": "543224be-dc51-461c-8f12-1082eac7f330"
      },
      "execution_count": 8,
      "outputs": [
        {
          "output_type": "stream",
          "name": "stdout",
          "text": [
            "   RollNo   student_name      student_address\n",
            "0      10  Reema,Thakkar        Surat,Gujarat\n",
            "1      20   Rekha,Chande      Pune,Maharastra\n",
            "2      30    Jaya,Sachde  Delhi,Uttar Pradesh\n",
            "*******************\n",
            "   RollNo   student_name      student_address   Name  Surname   City  \\\n",
            "0      10  Reema,Thakkar        Surat,Gujarat  Reema  Thakkar  Surat   \n",
            "1      20   Rekha,Chande      Pune,Maharastra  Rekha   Chande   Pune   \n",
            "2      30    Jaya,Sachde  Delhi,Uttar Pradesh   Jaya   Sachde  Delhi   \n",
            "\n",
            "           State  \n",
            "0        Gujarat  \n",
            "1     Maharastra  \n",
            "2  Uttar Pradesh  \n"
          ]
        }
      ]
    }
  ],
  "metadata": {
    "kernelspec": {
      "display_name": "Python 3",
      "language": "python",
      "name": "python3"
    },
    "language_info": {
      "codemirror_mode": {
        "name": "ipython",
        "version": 3
      },
      "file_extension": ".py",
      "mimetype": "text/x-python",
      "name": "python",
      "nbconvert_exporter": "python",
      "pygments_lexer": "ipython3",
      "version": "3.8.2"
    },
    "colab": {
      "provenance": [],
      "include_colab_link": true
    }
  },
  "nbformat": 4,
  "nbformat_minor": 0
}